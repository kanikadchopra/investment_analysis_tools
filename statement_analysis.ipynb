{
 "cells": [
  {
   "cell_type": "code",
   "execution_count": 97,
   "metadata": {},
   "outputs": [],
   "source": [
    "import pdfplumber\n",
    "import pandas as pd"
   ]
  },
  {
   "cell_type": "code",
   "execution_count": 98,
   "metadata": {},
   "outputs": [],
   "source": [
    "def extract_pages(file):\n",
    "    lines = []\n",
    "\n",
    "    with pdfplumber.open(file) as pdf:\n",
    "        pages = pdf.pages\n",
    "        for page in pdf.pages:\n",
    "            text = page.extract_text()\n",
    "            if 'Asset Review' in text: \n",
    "                pg = []\n",
    "                for line in text.split('\\n'):\n",
    "                    pg.append(line)\n",
    "                lines.append(pg)\n",
    "    return lines"
   ]
  },
  {
   "cell_type": "code",
   "execution_count": 99,
   "metadata": {},
   "outputs": [],
   "source": [
    "def extract_info(file):\n",
    "    \n",
    "    pages = extract_pages(file)\n",
    "    \n",
    "    cdn_dfs = []\n",
    "    us_dfs = [] \n",
    "    for page in pages:\n",
    "        year = page[1][-4:] \n",
    "        if 'rrsp' in file.lower():\n",
    "            currency = page[1][-11:-7]\n",
    "            currency = currency.replace('(', '')\n",
    "        else:\n",
    "            currency = page[1][:3].upper()\n",
    "        \n",
    "        start = False\n",
    "        asset_data = []\n",
    "        for line in page:\n",
    "            if 'Common Shares' in line or 'Foreign Securities' in line:\n",
    "                start = True\n",
    "            elif 'TotalValueofCommonShares' in line or 'TotalValueofForeignSecurities' in line:\n",
    "                start = False\n",
    "\n",
    "            if start == True: \n",
    "                asset_data.append(line)\n",
    "                \n",
    "        # Clean up the data\n",
    "        asset_data = asset_data[1:]\n",
    "        asset_data = [asset.split(' ') for asset in asset_data]\n",
    "        \n",
    "        # Create dataframe\n",
    "        df = pd.DataFrame(asset_data)\n",
    "        df.columns = ['Name', 'Symbol', 'Quantity', 'Price', 'Book Cost', 'Market Value']\n",
    "        df.dropna(inplace=True)\n",
    "        df.drop(columns = ['Name', 'Book Cost', 'Market Value'], inplace=True)\n",
    "        df.set_index('Symbol', inplace=True)   \n",
    "        \n",
    "        # Change data types\n",
    "        df.Quantity = df.Quantity.astype('float')\n",
    "        df.Price = df.Price.astype('float')\n",
    "        \n",
    "        df.columns = [name + '_' + year for name in df.columns]\n",
    "        \n",
    "        if currency == 'CDN':\n",
    "            cdn_dfs.append(df)\n",
    "        \n",
    "        else:\n",
    "            us_dfs.append(df)\n",
    "        \n",
    "    suffix = '_' + file.split('_')[0]\n",
    "    d = {'data_CDN' + suffix :  pd.concat(cdn_dfs, axis=0),\n",
    "         'data_US' + suffix : pd.concat(us_dfs, axis=0)}\n",
    "     \n",
    "    return d"
   ]
  },
  {
   "cell_type": "markdown",
   "metadata": {},
   "source": [
    "## For first time use to create the initial excel file"
   ]
  },
  {
   "cell_type": "code",
   "execution_count": 100,
   "metadata": {},
   "outputs": [],
   "source": [
    "investments_2020 = extract_info('non_registered_2020.pdf')\n",
    "rrsp_2020 = extract_info('rrsp_2020.pdf')\n",
    "investments_2020.update(rrsp_2020)"
   ]
  },
  {
   "cell_type": "code",
   "execution_count": 102,
   "metadata": {},
   "outputs": [],
   "source": [
    "from pandas import ExcelWriter\n",
    "from openpyxl import load_workbook\n",
    "\n",
    "\n",
    "def save_xls(dict_df, path):\n",
    "    book = load_workbook(path)\n",
    "    \n",
    "    writer = ExcelWriter(path, engine='openpyxl')\n",
    "    writer.book = book\n",
    "    \n",
    "    writer.sheets = dict((ws.title, ws) for ws in book.worksheets)\n",
    "    \n",
    "    \n",
    "    for key in dict_df:\n",
    "        dict_df[key].to_excel(writer, key)\n",
    "\n",
    "    writer.save()"
   ]
  },
  {
   "cell_type": "code",
   "execution_count": 103,
   "metadata": {
    "scrolled": true
   },
   "outputs": [],
   "source": [
    "save_xls(investments_2020, 'statement_analysis.xlsx')"
   ]
  },
  {
   "cell_type": "markdown",
   "metadata": {},
   "source": [
    "## After first use to add the new data or accounts onto this"
   ]
  },
  {
   "cell_type": "code",
   "execution_count": 105,
   "metadata": {},
   "outputs": [],
   "source": [
    "def add_data(analysis_csv, new_pdf):\n",
    "    # Read in new data\n",
    "    data = extract_info(new_pdf)\n",
    "    suffix = '_' + new_pdf.split('_')[0]\n",
    "    \n",
    "    # Canadian\n",
    "    cdn_data = data['data_CDN' + suffix]\n",
    "    old_cdn = pd.read_excel(analysis_csv, sheet_name = 'data_CDN' + suffix)\n",
    "    old_cdn.set_index('Symbol', inplace=True)\n",
    "    new_cdn = pd.concat([old_cdn, cdn_data], axis=1)\n",
    "    \n",
    "    cdn_analysis = new_cdn[[col for col in new_cdn.columns if 'Price' in col]].pct_change(axis=1)\n",
    "    cdn_analysis *= 100 \n",
    "    cdn_analysis.dropna(axis=1, inplace=True, how='all')\n",
    "\n",
    "    # US\n",
    "    us_data = data['data_US' + suffix]\n",
    "    old_us = pd.read_excel(analysis_csv, sheet_name = 'data_US' + suffix)\n",
    "    old_us.set_index('Symbol', inplace=True)\n",
    "    new_us = pd.concat([old_us, us_data], axis=1)\n",
    "\n",
    "    us_analysis = new_us[[col for col in new_us.columns if 'Price' in col]].pct_change(axis=1)\n",
    "    us_analysis *= 100 \n",
    "    years = [s[-4:] for s in us_analysis.columns]\n",
    "    \n",
    "    us_analysis.dropna(axis=1, inplace=True, how='all')\n",
    "    \n",
    "    i = 0\n",
    "    pct_cols = []\n",
    "    while i < len(years) - 1:\n",
    "        col = years[i] + '_to_' + years[i+1]\n",
    "        pct_cols.append(col)\n",
    "        i += 1\n",
    "        \n",
    "    us_analysis.columns = pct_cols\n",
    "    cdn_analysis.columns = pct_cols\n",
    "    \n",
    "    # Create the new dictionary \n",
    "    d = {'data_CDN' + suffix: new_cdn, \n",
    "         'analysis_CDN' + suffix : cdn_analysis,\n",
    "         'data_US' + suffix : new_us,\n",
    "         'analysis_US' + suffix: us_analysis}\n",
    "    \n",
    "    save_xls(d, 'statement_analysis.xlsx')\n",
    "    \n",
    "    \n",
    "    \n",
    "    print('Yay!')"
   ]
  },
  {
   "cell_type": "code",
   "execution_count": 106,
   "metadata": {
    "scrolled": true
   },
   "outputs": [
    {
     "name": "stdout",
     "output_type": "stream",
     "text": [
      "Yay!\n"
     ]
    }
   ],
   "source": [
    "add_data('statement_analysis.xlsx', 'rrsp_2021.pdf')"
   ]
  },
  {
   "cell_type": "code",
   "execution_count": 107,
   "metadata": {
    "scrolled": true
   },
   "outputs": [
    {
     "name": "stdout",
     "output_type": "stream",
     "text": [
      "Yay!\n"
     ]
    }
   ],
   "source": [
    "add_data('statement_analysis.xlsx', 'non_registered_2021.pdf')"
   ]
  }
 ],
 "metadata": {
  "kernelspec": {
   "display_name": "Python 3",
   "language": "python",
   "name": "python3"
  },
  "language_info": {
   "codemirror_mode": {
    "name": "ipython",
    "version": 3
   },
   "file_extension": ".py",
   "mimetype": "text/x-python",
   "name": "python",
   "nbconvert_exporter": "python",
   "pygments_lexer": "ipython3",
   "version": "3.7.4"
  }
 },
 "nbformat": 4,
 "nbformat_minor": 2
}
